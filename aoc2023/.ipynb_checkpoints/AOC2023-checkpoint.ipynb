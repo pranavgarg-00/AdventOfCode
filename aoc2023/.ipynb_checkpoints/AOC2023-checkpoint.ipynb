{
 "cells": [
  {
   "cell_type": "markdown",
   "id": "b246d591",
   "metadata": {},
   "source": [
    "# Day 1"
   ]
  },
  {
   "cell_type": "code",
   "execution_count": 16,
   "id": "aa2a4893",
   "metadata": {},
   "outputs": [
    {
     "name": "stdout",
     "output_type": "stream",
     "text": [
      "54632\n"
     ]
    }
   ],
   "source": [
    "with open(\"day1.txt\") as f:\n",
    "    ans = 0\n",
    "    for line in f:\n",
    "        a= list(filter(lambda x: x.isdigit(), list(line)))\n",
    "        ans += int(a[0] + a[-1])\n",
    "    print(ans)"
   ]
  },
  {
   "cell_type": "code",
   "execution_count": 36,
   "id": "21219836",
   "metadata": {},
   "outputs": [
    {
     "name": "stdout",
     "output_type": "stream",
     "text": [
      "54019\n"
     ]
    }
   ],
   "source": [
    "with open(\"day1.txt\") as f:\n",
    "    cands = [\"0\",\"1\",\"2\",\"3\",\"4\",\"5\",\"6\",\"7\",\"8\",\"9\",\"zero\",\"one\",\"two\",\"three\",\"four\",\"five\",\"six\",\"seven\",\"eight\",\"nine\"]\n",
    "    dmap = {\"0\":0,\"1\":1,\"2\":2,\"3\":3,\"4\":4,\"5\":5,\"6\":6,\"7\":7,\"8\":8,\"9\":9,\"zero\":0,\"one\":1,\"two\":2,\"three\":3,\"four\":4,\"five\":5,\"six\":6,\"seven\":7,\"eight\":8,\"nine\":9}\n",
    "    ans = 0\n",
    "    i = 0\n",
    "    for line in f:\n",
    "        a= min((list(filter(lambda x: x in line, cands))), key=lambda y: line.index(y))\n",
    "        b= max((list(filter(lambda x: x in line, cands))), key=lambda y: line.rindex(y))\n",
    "        ans += int(str(dmap[a]) + str(dmap[b]))\n",
    "    print(ans)"
   ]
  },
  {
   "cell_type": "markdown",
   "id": "46379957",
   "metadata": {},
   "source": [
    "# Day 2"
   ]
  },
  {
   "cell_type": "code",
   "execution_count": 56,
   "id": "c870f62e",
   "metadata": {},
   "outputs": [
    {
     "name": "stdout",
     "output_type": "stream",
     "text": [
      "1853\n"
     ]
    }
   ],
   "source": [
    "with open(\"day2.txt\") as f:\n",
    "    ans = 0\n",
    "    for line in f:\n",
    "        blue=0\n",
    "        red=0\n",
    "        green=0\n",
    "        x = line.split()\n",
    "        x = list(map(lambda y: ''.join(e for e in y if e.isalnum()), x))\n",
    "        for i in range(1,len(x)):\n",
    "            if x[i] == \"blue\":\n",
    "                blue = max(blue, int(x[i-1]))\n",
    "            if x[i] == \"red\":\n",
    "                red = max(red, int(x[i-1]))\n",
    "            if x[i] == \"green\":\n",
    "                green = max(green, int(x[i-1]))\n",
    "        \n",
    "        if red <= 12 and green <= 13 and blue <= 14:\n",
    "            ans += int(x[1])\n",
    "    print(ans)"
   ]
  },
  {
   "cell_type": "code",
   "execution_count": 59,
   "id": "ee020020",
   "metadata": {},
   "outputs": [
    {
     "name": "stdout",
     "output_type": "stream",
     "text": [
      "72706\n"
     ]
    }
   ],
   "source": [
    "with open(\"day2.txt\") as f:\n",
    "    ans = 0\n",
    "    for line in f:\n",
    "        blue=0\n",
    "        red=0\n",
    "        green=0\n",
    "        x = line.split()\n",
    "        x = list(map(lambda y: ''.join(e for e in y if e.isalnum()), x))\n",
    "        for i in range(1,len(x)):\n",
    "            if x[i] == \"blue\":\n",
    "                blue = max(blue, int(x[i-1]))\n",
    "            if x[i] == \"red\":\n",
    "                red = max(red, int(x[i-1]))\n",
    "            if x[i] == \"green\":\n",
    "                green = max(green, int(x[i-1]))\n",
    "        \n",
    "        ans += red*green*blue\n",
    "    print(ans)"
   ]
  },
  {
   "cell_type": "markdown",
   "id": "f5b1a167",
   "metadata": {},
   "source": [
    "# Day 3"
   ]
  },
  {
   "cell_type": "code",
   "execution_count": 82,
   "id": "6a01f2d7",
   "metadata": {},
   "outputs": [
    {
     "name": "stdout",
     "output_type": "stream",
     "text": [
      "556367\n"
     ]
    }
   ],
   "source": [
    "with open(\"day3.txt\") as f:\n",
    "    a = list(f)\n",
    "    a = list(map(lambda x: x[:-1], a))\n",
    "    ans = 0\n",
    "    for i in range(len(a)):\n",
    "        j = 0\n",
    "        temp = \"\"\n",
    "        while j < len(a[i]):\n",
    "            if a[i][j].isdigit():\n",
    "                temp = temp + a[i][j]\n",
    "                j += 1\n",
    "            elif temp != \"\":\n",
    "                templeft = j - len(temp)\n",
    "                tempright = j - 1\n",
    "                neighbors = []\n",
    "                for ni in range(i-1, i+2):\n",
    "                    for nj in range(templeft - 1, tempright + 2):\n",
    "                        if ni > 0 and ni < len(a) and nj > 0 and nj < len(a[i]) and (not (ni == i and nj >= templeft and nj <= tempright)):\n",
    "                            neighbors.append((ni,nj))\n",
    "                flag = False\n",
    "                for neigh in neighbors:\n",
    "                    if (not a[neigh[0]][neigh[1]].isdigit() and not a[neigh[0]][neigh[1]] == \".\"):\n",
    "                        flag = True\n",
    "                        break\n",
    "                if flag:\n",
    "                    ans += int(temp)\n",
    "                temp = \"\"\n",
    "                j+=1\n",
    "            else:\n",
    "                j+=1\n",
    "        if temp != \"\":\n",
    "                templeft = j - len(temp)\n",
    "                tempright = j - 1\n",
    "                neighbors = []\n",
    "                for ni in range(i-1, i+2):\n",
    "                    for nj in range(templeft - 1, tempright + 2):\n",
    "                        if ni > 0 and ni < len(a) and nj > 0 and nj < len(a[i]) and (not (ni == i and nj >= templeft and nj <= tempright)):\n",
    "                            neighbors.append((ni,nj))\n",
    "                flag = False\n",
    "                for neigh in neighbors:\n",
    "                    if (not a[neigh[0]][neigh[1]].isdigit() and not a[neigh[0]][neigh[1]] == \".\"):\n",
    "                        flag = True\n",
    "                        break\n",
    "                if flag:\n",
    "                    ans += int(temp)\n",
    "                    temp = \"\"\n",
    "                j+=1\n",
    "    print(ans)"
   ]
  },
  {
   "cell_type": "code",
   "execution_count": 87,
   "id": "86049b99",
   "metadata": {},
   "outputs": [
    {
     "name": "stdout",
     "output_type": "stream",
     "text": [
      "89471771\n"
     ]
    }
   ],
   "source": [
    "with open(\"day3.txt\") as f:\n",
    "    a = list(f)\n",
    "    a = list(map(lambda x: x[:-1], a))\n",
    "    gearmap = {}\n",
    "    ans = 0\n",
    "    for i in range(len(a)):\n",
    "        j = 0\n",
    "        temp = \"\"\n",
    "        while j < len(a[i]):\n",
    "            if a[i][j].isdigit():\n",
    "                temp = temp + a[i][j]\n",
    "                j += 1\n",
    "            elif temp != \"\":\n",
    "                templeft = j - len(temp)\n",
    "                tempright = j - 1\n",
    "                neighbors = []\n",
    "                for ni in range(i-1, i+2):\n",
    "                    for nj in range(templeft - 1, tempright + 2):\n",
    "                        if ni > 0 and ni < len(a) and nj > 0 and nj < len(a[i]) and (not (ni == i and nj >= templeft and nj <= tempright)):\n",
    "                            neighbors.append((ni,nj))\n",
    "\n",
    "                for neigh in neighbors:\n",
    "                    if a[neigh[0]][neigh[1]] == \"*\":\n",
    "                        gearmap[neigh] = gearmap.get(neigh, []) + [int(temp)]\n",
    "                temp = \"\"\n",
    "                j+=1\n",
    "            else:\n",
    "                j+=1\n",
    "        if temp != \"\":\n",
    "            templeft = j - len(temp)\n",
    "            tempright = j - 1\n",
    "            neighbors = []\n",
    "            for ni in range(i-1, i+2):\n",
    "                for nj in range(templeft - 1, tempright + 2):\n",
    "                    if ni > 0 and ni < len(a) and nj > 0 and nj < len(a[i]) and (not (ni == i and nj >= templeft and nj <= tempright)):\n",
    "                        neighbors.append((ni,nj))\n",
    "            flag = False\n",
    "            for neigh in neighbors:\n",
    "                if a[neigh[0]][neigh[1]] == \"*\":\n",
    "                    gearmap[neigh] = gearmap.get(neigh, []) + [int(temp)]\n",
    "            temp=\"\"\n",
    "            j+=1\n",
    "    \n",
    "    for gear in gearmap:\n",
    "        if len(gearmap[gear]) == 2:\n",
    "            ans += gearmap[gear][0]*gearmap[gear][1]\n",
    "    print(ans)"
   ]
  },
  {
   "cell_type": "markdown",
   "id": "8b27794f",
   "metadata": {},
   "source": [
    "# Day 4"
   ]
  },
  {
   "cell_type": "code",
   "execution_count": 101,
   "id": "df8c935c",
   "metadata": {},
   "outputs": [
    {
     "name": "stdout",
     "output_type": "stream",
     "text": [
      "22674\n"
     ]
    }
   ],
   "source": [
    "with open(\"day4.txt\") as f:\n",
    "    ans = 0\n",
    "    for line in f:\n",
    "        a = line.split()\n",
    "        spe = a.index('|')\n",
    "        left = a[2:spe]\n",
    "        right = a[spe+1:]\n",
    "        ctr = 0\n",
    "        for i in right:\n",
    "            if i in left:\n",
    "                ctr += 1\n",
    "        if ctr:\n",
    "            ans += 2**(ctr - 1)\n",
    "    print(ans)"
   ]
  },
  {
   "cell_type": "code",
   "execution_count": 123,
   "id": "5e7cc3e0",
   "metadata": {},
   "outputs": [
    {
     "name": "stdout",
     "output_type": "stream",
     "text": [
      "5747443\n"
     ]
    }
   ],
   "source": [
    "with open(\"day4.txt\") as f:\n",
    "    L = list(f)\n",
    "    counts = [1]*len(L)\n",
    "    cur = 0\n",
    "    for line in L:\n",
    "        a = line.split()\n",
    "        spe = a.index('|')\n",
    "        left = a[2:spe]\n",
    "        right = a[spe+1:]\n",
    "        ctr = 0\n",
    "        for i in right:\n",
    "            if i in left:\n",
    "                ctr += 1\n",
    "        if ctr:\n",
    "            for i in range(cur+1, cur+ctr+1):\n",
    "                counts[i] += counts[cur]\n",
    "        cur += 1\n",
    "    print(sum(counts))"
   ]
  },
  {
   "cell_type": "markdown",
   "id": "ff11fdd3",
   "metadata": {},
   "source": [
    "# Day 5"
   ]
  },
  {
   "cell_type": "code",
   "execution_count": 144,
   "id": "0b791e7c",
   "metadata": {},
   "outputs": [
    {
     "name": "stdout",
     "output_type": "stream",
     "text": [
      "218513636\n"
     ]
    }
   ],
   "source": [
    "with open(\"day5.txt\") as f:\n",
    "    s = f.read()\n",
    "    L = s.split(\"\\n\\n\")\n",
    "    seeds = L[0].split()\n",
    "    maps = []\n",
    "    for i in range(1, len(L)):\n",
    "        temp = []\n",
    "        Li = L[i].split(\"\\n\")\n",
    "        for j in range(1, len(Li)):\n",
    "            Lij = Li[j].split()\n",
    "            temp.append(list(map(int, Lij)))\n",
    "        maps.append(temp)\n",
    "    \n",
    "    cur = list(map(int, seeds[1:]))\n",
    "    for i in range(len(maps)):\n",
    "        tempcur = []\n",
    "        for num in cur:\n",
    "            flag = True\n",
    "            for ranges in maps[i]:\n",
    "                if num >= ranges[1] and num < ranges[1] + ranges[2]:\n",
    "                    flag = False\n",
    "                    tempcur.append(num - ranges[1] + ranges[0])\n",
    "                    break\n",
    "            if flag:\n",
    "                tempcur.append(num)\n",
    "        cur = tempcur\n",
    "    print(min(cur))"
   ]
  },
  {
   "cell_type": "code",
   "execution_count": 156,
   "id": "4b9aa0cb",
   "metadata": {},
   "outputs": [
    {
     "name": "stdout",
     "output_type": "stream",
     "text": [
      "(81956384, 94610442)\n"
     ]
    }
   ],
   "source": [
    "with open(\"day5.txt\") as f:\n",
    "    s = f.read()\n",
    "    L = s.split(\"\\n\\n\")\n",
    "    seeds = L[0].split()\n",
    "    maps = []\n",
    "    for i in range(1, len(L)):\n",
    "        temp = []\n",
    "        Li = L[i].split(\"\\n\")\n",
    "        for j in range(1, len(Li)):\n",
    "            Lij = Li[j].split()\n",
    "            temp.append(list(map(int, Lij)))\n",
    "        maps.append(temp)\n",
    "    \n",
    "    cur = list(map(int, seeds[1::2]))\n",
    "    curranges = list(map(int, seeds[2::2]))\n",
    "    from collections import deque\n",
    "    d = deque()\n",
    "    for i in range(len(cur)):\n",
    "        d.append((cur[i], curranges[i] + cur[i] - 1))\n",
    "    \n",
    "    for i in range(len(maps)):\n",
    "        tempcur = deque()\n",
    "        while d:\n",
    "            numpair = d.popleft()\n",
    "            flag = True\n",
    "            for ranges in maps[i]:\n",
    "                if numpair[0] >= ranges[1] and numpair[0] < ranges[1] + ranges[2] and numpair[1] >= ranges[1] and numpair[1] < ranges[1] + ranges[2]:\n",
    "                    flag = False\n",
    "                    tempcur.append((numpair[0] - ranges[1] + ranges[0], numpair[1] - ranges[1] + ranges[0]))\n",
    "                    break\n",
    "                if numpair[0] >= ranges[1] and numpair[0] < ranges[1] + ranges[2]:\n",
    "                    p1 = (numpair[0], ranges[1] + ranges[2] - 1)\n",
    "                    p2 = (ranges[1] + ranges[2], numpair[1])\n",
    "                    d.append(p1)\n",
    "                    d.append(p2)\n",
    "                    flag = False\n",
    "                    break\n",
    "                if numpair[1] >= ranges[1] and numpair[1] < ranges[1] + ranges[2]:\n",
    "                    p1 = (ranges[1], numpair[1])\n",
    "                    p2 = (numpair[0], ranges[1] - 1)\n",
    "                    d.append(p1)\n",
    "                    d.append(p2)\n",
    "                    flag = False\n",
    "                    break\n",
    "            if flag:\n",
    "                tempcur.append(numpair)\n",
    "        d = tempcur\n",
    "    print(min(d, key = lambda x: x[0]))"
   ]
  },
  {
   "cell_type": "markdown",
   "id": "6649bdb8",
   "metadata": {},
   "source": [
    "# Day 6"
   ]
  },
  {
   "cell_type": "code",
   "execution_count": null,
   "id": "3792a1ed",
   "metadata": {},
   "outputs": [],
   "source": []
  },
  {
   "cell_type": "code",
   "execution_count": null,
   "id": "0ec4fd7a",
   "metadata": {},
   "outputs": [],
   "source": []
  }
 ],
 "metadata": {
  "kernelspec": {
   "display_name": "Python 3",
   "language": "python",
   "name": "python3"
  },
  "language_info": {
   "codemirror_mode": {
    "name": "ipython",
    "version": 3
   },
   "file_extension": ".py",
   "mimetype": "text/x-python",
   "name": "python",
   "nbconvert_exporter": "python",
   "pygments_lexer": "ipython3",
   "version": "3.7.4"
  }
 },
 "nbformat": 4,
 "nbformat_minor": 5
}
